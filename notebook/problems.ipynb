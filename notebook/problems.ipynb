{
    "cells": [
        {
            "cell_type": "markdown",
            "id": "ac622319",
            "metadata": {},
            "source": [
                "# Descriptive statistics problems"
            ]
        },
        {
            "cell_type": "markdown",
            "id": "5e0ab0d5",
            "metadata": {},
            "source": [
                "### Exercise 1\n",
                "\n",
                "We will use NumPy to obtain information to describe statistically.\n",
                "\n",
                "- Generate an array of 100 elements following a normal distribution.\n",
                "- Generate an array of 100 elements following a chi-square distribution with 3 degrees of freedom.\n",
                "- Calculate the main metrics and statistical measures that best describe the two vectors."
            ]
        },
        {
            "cell_type": "code",
            "execution_count": 10,
            "id": "34720ab6",
            "metadata": {},
            "outputs": [
                {
                    "name": "stdout",
                    "output_type": "stream",
                    "text": [
                        "La media de la distribución normal es: 0.06494422933974807 -> se aproxima a cero, típico de una distribución normal\n",
                        "La media de la distribución chi-cuadrado es: 2.9949120071519872\n",
                        "\n",
                        "La mediana de la distribución normal es: 0.09361716624272753 -> se aproxima a cero, típico de una distribución normal\n",
                        "La mediana de la distribución chi-cuadrado es: 2.3807143725037787\n",
                        "\n",
                        "La moda de la distribución normal es: 2.2497417478173682 -> se aproxima a cero, típico de una distribución normal\n",
                        "La moda de la distribución chi-cuadrado es: 8.290329032192792\n",
                        "\n",
                        "El rango de la distribución normal es: 5.084786040564289\n",
                        "El rango de la distribución chi-cuadrado es: 13.72047492343208\n",
                        "\n",
                        "La varianza de la distribución normal es: 1.0220396890257257\n",
                        "La varianza de la distribución chi-cuadrado es: 5.938351401030593\n",
                        "\n",
                        "La desviación estándar de la distribución normal es: 1.0109597860576482\n",
                        "La desviación estándar de la chi-cuadrado es: 2.436873283745093\n",
                        "\n",
                        "La asimetría de la distribución normal es: -0.07410363813468399 -> se aproxima a cero, es casi simétrica\n",
                        "La asimetría de la chi-cuadrado es: 1.4875839035104657 -> es positiva, por lo que la mayoría de los datos están a la izquierda\n",
                        "\n",
                        "La curtosis de la distribución normal es: 0.06224456020813607 -> se aproxima a cero, tiene forma mesocúrtica\n",
                        "La curtosis de la chi-cuadrado es: 2.9047164831890084 -> es positiva por lo que tiene una forma leptocúrtica\n"
                    ]
                },
                {
                    "data": {
                        "image/png": "[encoded data removed]",
                        "text/plain": [
                            "<Figure size 1000x500 with 2 Axes>"
                        ]
                    },
                    "metadata": {},
                    "output_type": "display_data"
                }
            ],
            "source": [
                "import numpy as np\n",
                "import statistics as stats\n",
                "import matplotlib.pyplot as plt\n",
                "\n",
                "#Generar un array de 100 elementos con una distribución normal.\n",
                "    #Una distribución normal es aquella que tiene una media=0 y una desv.estandar=1\n",
                "media = 0\n",
                "desviacion_estandar = 1\n",
                "array1 = np.random.normal(media, desviacion_estandar, size = 100)\n",
                "\n",
                "#Generar un array de 100 elementos siguiendo una distribución chi-cuadrado con 3 grados de libertad.\n",
                "grados_libertad = 3\n",
                "array2 = np.random.chisquare(grados_libertad, 100)\n",
                "\n",
                "#Cálculo de métricas\n",
                "    #media\n",
                "media1 = np.mean(array1)\n",
                "media2 = np.mean(array2)\n",
                "print(\"La media de la distribución normal es: {} -> se aproxima a cero, típico de una distribución normal\".format(media1))\n",
                "print(\"La media de la distribución chi-cuadrado es: {}\".format(media2))\n",
                "    #mediana\n",
                "mediana1 = np.median(array1)\n",
                "mediana2 = np.median(array2)\n",
                "print(\"\\nLa mediana de la distribución normal es: {} -> se aproxima a cero, típico de una distribución normal\".format(mediana1))\n",
                "print(\"La mediana de la distribución chi-cuadrado es: {}\".format(mediana2))\n",
                "    #moda\n",
                "moda1 = stats.mode(array1)\n",
                "moda2 = stats.mode(array2)\n",
                "print(\"\\nLa moda de la distribución normal es: {} -> se aproxima a cero, típico de una distribución normal\".format(moda1))\n",
                "print(\"La moda de la distribución chi-cuadrado es: {}\".format(moda2))\n",
                "    #rango\n",
                "rango1 = np.max(array1) - np.min(array1)\n",
                "rango2 = np.max(array2) - np.min(array2)\n",
                "print(\"\\nEl rango de la distribución normal es: {}\".format(rango1))\n",
                "print(\"El rango de la distribución chi-cuadrado es: {}\".format(rango2))\n",
                "    #Varianza\n",
                "varianza1 = np.var(array1)\n",
                "varianza2 = np.var(array2)\n",
                "print(\"\\nLa varianza de la distribución normal es: {}\".format(varianza1))\n",
                "print(\"La varianza de la distribución chi-cuadrado es: {}\".format(varianza2))\n",
                "    #Desviación estándar\n",
                "des_estandar1 = np.std(array1)\n",
                "des_estandar2 = np.std(array2)\n",
                "print(\"\\nLa desviación estándar de la distribución normal es: {}\".format(des_estandar1))\n",
                "print(\"La desviación estándar de la chi-cuadrado es: {}\".format(des_estandar2))\n",
                "    #Asimetría\n",
                "from scipy.stats import skew\n",
                "asimetria1 = skew(array1)\n",
                "asimetria2 = skew(array2)\n",
                "print(\"\\nLa asimetría de la distribución normal es: {} -> se aproxima a cero, es casi simétrica\".format(asimetria1))\n",
                "print(\"La asimetría de la chi-cuadrado es: {} -> es positiva, por lo que la mayoría de los datos están a la izquierda\".format(asimetria2))\n",
                "    #Curtosis\n",
                "from scipy.stats import kurtosis\n",
                "curtosis1 = kurtosis(array1)\n",
                "curtosis2 = kurtosis(array2)\n",
                "print(\"\\nLa curtosis de la distribución normal es: {} -> se aproxima a cero, tiene forma mesocúrtica\".format(curtosis1))\n",
                "print(\"La curtosis de la chi-cuadrado es: {} -> es positiva por lo que tiene una forma leptocúrtica\".format(curtosis2))\n",
                "\n",
                "#Grafico los arrays para visualizar los datos (histogramas)\n",
                "fig, axs = plt.subplots(1, 2, figsize=(10, 5))\n",
                "\n",
                "axs[0].hist(array1, bins=20, color='skyblue', edgecolor='black')\n",
                "axs[0].set_title('Distribución normal')\n",
                "axs[0].set_xlabel('Valores')\n",
                "axs[0].set_ylabel('Frecuencia')\n",
                "\n",
                "# Histograma para el segundo conjunto de datos\n",
                "axs[1].hist(array2, bins=20, color='salmon', edgecolor='black')\n",
                "axs[1].set_title('Distribución chi-cuadrado')\n",
                "axs[1].set_xlabel('Valores')\n",
                "axs[1].set_ylabel('Frecuencia')\n",
                "\n",
                "plt.show()"
            ]
        },
        {
            "cell_type": "markdown",
            "id": "46c70c3d",
            "metadata": {},
            "source": [
                "### Exercise 2\n",
                "\n",
                "Write a Python program to calculate the standard deviation of the following data:\n",
                "\n",
                "```py\n",
                "data = [4, 2, 5, 8, 6]\n",
                "```"
            ]
        },
        {
            "cell_type": "code",
            "execution_count": 22,
            "id": "d590308e",
            "metadata": {},
            "outputs": [
                {
                    "name": "stdout",
                    "output_type": "stream",
                    "text": [
                        "La desviación estándar es: 2.0\n",
                        "\n",
                        "Desviación estándar calculada con función de Numpy para comprobar el cáclulo anterior: 2.0\n"
                    ]
                }
            ],
            "source": [
                "data = [4,2,5,8,6]\n",
                "array = np.array(data)\n",
                "\n",
                "#Función para calcular la desviación estándar\n",
                "def desviacion_estandar(datos):\n",
                "    media = np.mean(data)\n",
                "    for i in data:\n",
                "        sumatorio = np.sum((array-media)**2)\n",
                "\n",
                "    des_est = np.sqrt(sumatorio/media)\n",
                "    return des_est\n",
                "\n",
                "print(\"La desviación estándar es: {}\".format(desviacion_estandar(array)))\n",
                "\n",
                "des_est2 = np.std(array)\n",
                "print(\"\\nDesviación estándar calculada con función de Numpy para comprobar el cáclulo anterior: {}\".format(des_est2))"
            ]
        }
    ],
    "metadata": {
        "interpreter": {
            "hash": "9248718ffe6ce6938b217e69dbcc175ea21f4c6b28a317e96c05334edae734bb"
        },
        "kernelspec": {
            "display_name": "Python 3.9.12 ('ML-BOOTCAMP')",
            "language": "python",
            "name": "python3"
        },
        "language_info": {
            "codemirror_mode": {
                "name": "ipython",
                "version": 3
            },
            "file_extension": ".py",
            "mimetype": "text/x-python",
            "name": "python",
            "nbconvert_exporter": "python",
            "pygments_lexer": "ipython3",
            "version": "3.11.4"
        }
    },
    "nbformat": 4,
    "nbformat_minor": 5
}
